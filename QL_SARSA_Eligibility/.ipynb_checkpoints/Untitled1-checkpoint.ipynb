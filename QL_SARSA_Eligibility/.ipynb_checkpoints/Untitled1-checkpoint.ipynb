{
 "cells": [
  {
   "cell_type": "markdown",
   "id": "dfc2e5dc-ee14-4ece-9eca-bf31bc9461c3",
   "metadata": {},
   "source": [
    "## 3. Házi feladat\n",
    "### Név: ..........\n",
    "#### Töltsetek időt azzal, hogy felfedezitek a Tensorflow Playground-ot, és összehasonlítjátok a MS Machine Learning Studio-val! Válaszoljátok meg a lenti kérdéseket. A cellákba szúrjatok be képernyőképeket a feladatok megoldásáról, mindkét platformon."
   ]
  },
  {
   "cell_type": "markdown",
   "id": "b8aac786-422a-457e-a643-927557e6d21c",
   "metadata": {},
   "source": [
    "### Kérdések"
   ]
  },
  {
   "cell_type": "markdown",
   "id": "7f20448d-4136-4410-9c9f-6d27070d2315",
   "metadata": {},
   "source": [
    "#### 1. Tanítsd a hálózatot mindkét platformon. Milyen mintákat tanul meg a neurális háló? Milyen minták vannak a különböző belső rétegekben? Mi történik, ha több belső réteget adunk hozzá?"
   ]
  },
  {
   "cell_type": "markdown",
   "id": "05e50cd4-422a-44d3-9eb1-a0ced07df80f",
   "metadata": {},
   "source": []
  },
  {
   "cell_type": "markdown",
   "id": "b624fc14-2352-4f81-9c3e-039c3616b57d",
   "metadata": {},
   "source": [
    "#### 2. Próbáld meg kicserélni az aktivációs föggvényeket. Mi történik? Melyik aktivációs függvénnyel a legjobb az osztályozás?"
   ]
  },
  {
   "cell_type": "markdown",
   "id": "1036aa19-5723-4864-a7c1-6a3194eed53d",
   "metadata": {},
   "source": []
  },
  {
   "cell_type": "markdown",
   "id": "ded73797-659b-4d91-ac43-f57af8c2bca0",
   "metadata": {},
   "source": [
    "#### 3. A lokális minimum kockázata. Módosítsd az architektúrát, hogy csak egy rejtett rétege legyen, 3 neuronnal. Tanítsd többször, majd reseteld. Mit tapasztalsz a tanítás idejével és a tanítás eredményével kapcsolatban? Beragadhat lokális minimumon? "
   ]
  },
  {
   "cell_type": "markdown",
   "id": "6cfc7a20-9ff4-45bf-97fd-9ca5a7284af7",
   "metadata": {},
   "source": []
  },
  {
   "cell_type": "markdown",
   "id": "54e25f59-85bd-421e-a2dd-0c1b2dd5a189",
   "metadata": {},
   "source": [
    "#### 4. Távolíts el egy neuront, hogy csak 2 legyen. Mit gondolsz, így lehetséges az osztályozás? Mennyi a minimális neuron szám, ami az adathalmaz osztályozásához kell? Miért? "
   ]
  },
  {
   "cell_type": "markdown",
   "id": "c94f0eef-fcf5-457e-88c6-61fd8409eaac",
   "metadata": {},
   "source": []
  },
  {
   "cell_type": "markdown",
   "id": "38566c83-5cae-41e8-8908-41432a97a26f",
   "metadata": {},
   "source": [
    "#### 5. Állítsd a rejtett neuronok számát 8-ra, majd tanítsd a hálózatot többször is. Mi mondható el, beragadhat lokális minimumon? És fennsíkokon?   "
   ]
  },
  {
   "cell_type": "markdown",
   "id": "7f7319ad-1114-431d-93d4-b0aa10578a55",
   "metadata": {},
   "source": []
  },
  {
   "cell_type": "markdown",
   "id": "f76a303b-0211-4bfa-9e95-12983bb6b7d8",
   "metadata": {
    "tags": []
   },
   "source": [
    "#### 6. Ezt a feladatot csak TF Playground-ban kell megoldani. Olvasd el ennek a Wiki szócikknek az első bekezdését: https://en.wikipedia.org/wiki/Vanishing_gradient_problem. Válaszd ki a spirál adathalmazt a bal oldalon, és állítsd be, hogy 4 rejtett rétege legyen, mindegyikben 8 neuronnal. Mi mondható el a tanítási időről? Jelentkezik az eltűnő gradiensek problémája? Próbálj meg olyan optimalizálót találni, ami megoldja! Melyik lehet ez? Segítene rajta a kötegelt normalizáció? "
   ]
  },
  {
   "cell_type": "markdown",
   "id": "6edfa114-3324-4921-8ea5-d391752a5520",
   "metadata": {},
   "source": []
  },
  {
   "cell_type": "markdown",
   "id": "7b612cb6-a62e-4ef7-a1db-60a2bdcd6ca1",
   "metadata": {},
   "source": [
    "#### 7. Válassz ki egyéb paramétereket, és fordítsd időt rá, hogy próbálgatod a működésüket. Írd le egy olyan tapasztalatodat, amit órán tanultunk, és eddig nem szerepelt. "
   ]
  },
  {
   "cell_type": "markdown",
   "id": "c258b97b-9b29-4f1c-90e1-b0f68d165c7e",
   "metadata": {},
   "source": []
  }
 ],
 "metadata": {
  "kernelspec": {
   "display_name": "Python 3 (ipykernel)",
   "language": "python",
   "name": "python3"
  },
  "language_info": {
   "codemirror_mode": {
    "name": "ipython",
    "version": 3
   },
   "file_extension": ".py",
   "mimetype": "text/x-python",
   "name": "python",
   "nbconvert_exporter": "python",
   "pygments_lexer": "ipython3",
   "version": "3.8.3"
  }
 },
 "nbformat": 4,
 "nbformat_minor": 5
}
