{
 "cells": [
  {
   "cell_type": "code",
   "execution_count": 6,
   "id": "ad6e87a8-8a16-4d79-8fca-a45f4f7c7c72",
   "metadata": {},
   "outputs": [
    {
     "name": "stdout",
     "output_type": "stream",
     "text": [
      "21\n",
      "55\n",
      "10\n",
      "13\n",
      "21\n",
      "\n",
      "21\n",
      "55\n",
      "10\n",
      "13\n",
      "21\n",
      "\n",
      "21\n",
      "55\n",
      "10\n",
      "13\n",
      "21\n",
      "\n",
      "21\n",
      "55\n",
      "10\n",
      "13\n",
      "21\n",
      "\n",
      "21\n",
      "55\n",
      "10\n",
      "13\n",
      "21\n",
      "\n",
      "21\n",
      "55\n",
      "10\n",
      "13\n",
      "21\n",
      "\n",
      "21\n",
      "55\n",
      "10\n",
      "13\n",
      "21\n",
      "\n",
      "21\n",
      "55\n",
      "10\n",
      "13\n",
      "21\n",
      "\n",
      "21\n",
      "55\n",
      "10\n",
      "13\n",
      "21\n",
      "\n",
      "21\n",
      "55\n",
      "10\n",
      "13\n",
      "21\n",
      "\n"
     ]
    }
   ],
   "source": [
    "import numpy as np\n",
    "\n",
    "for i in range(10):\n",
    "    np.random.seed(1014)\n",
    "    for j in range(5):\n",
    "        print(np.random.randint(100))\n",
    "    print()"
   ]
  },
  {
   "cell_type": "code",
   "execution_count": null,
   "id": "37aa5609-78d9-435a-a928-05e41703b74b",
   "metadata": {},
   "outputs": [],
   "source": []
  }
 ],
 "metadata": {
  "kernelspec": {
   "display_name": "Python 3 (ipykernel)",
   "language": "python",
   "name": "python3"
  },
  "language_info": {
   "codemirror_mode": {
    "name": "ipython",
    "version": 3
   },
   "file_extension": ".py",
   "mimetype": "text/x-python",
   "name": "python",
   "nbconvert_exporter": "python",
   "pygments_lexer": "ipython3",
   "version": "3.8.3"
  }
 },
 "nbformat": 4,
 "nbformat_minor": 5
}
